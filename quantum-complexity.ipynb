{
 "cells": [
  {
   "cell_type": "code",
   "execution_count": null,
   "metadata": {},
   "outputs": [],
   "source": [
    "from bs4 import BeautifulSoup as bs\n",
    "import requests\n",
    "import matplotlib.pyplot as plt\n",
    "import numpy as np\n",
    "import re\n",
    "#%matplotlib inline"
   ]
  },
  {
   "cell_type": "code",
   "execution_count": null,
   "metadata": {},
   "outputs": [],
   "source": [
    "page = requests.get(\"https://web.archive.org/web/20171124010223/https://math.nist.gov/quantum/zoo/\")\n",
    "soup = bs(page.content)"
   ]
  },
  {
   "cell_type": "code",
   "execution_count": null,
   "metadata": {},
   "outputs": [],
   "source": [
    "a=soup.find_all(id=\"main\")[0].findAll('b')\n",
    "for d in a[2].next_elements:\n",
    "    #print(str(d))"
   ]
  },
  {
   "cell_type": "code",
   "execution_count": null,
   "metadata": {},
   "outputs": [],
   "source": [
    "a=soup.find_all(id=\"main\")[0].findAll('b')\n",
    "l = []\n",
    "p = re.compile(\"\\\\\\\\\\(.*\\\\\\\\\\)\")\n",
    "for b in range(0, len(a)-1,3):\n",
    "    description = []\n",
    "    for d in a[b+2].next_elements:\n",
    "        if str(d).startswith(\"<br\"):\n",
    "            break\n",
    "        description.append(str(d))\n",
    "    l.append((a[b].next_sibling,a[b+1].next_sibling, a[b+2].next_sibling, \n",
    "              description,\n",
    "              \"x**3\", 0, 5, \"2**(x**(1/3))\"))\n",
    "    \n",
    "#l[0][3].flat"
   ]
  },
  {
   "cell_type": "code",
   "execution_count": null,
   "metadata": {},
   "outputs": [],
   "source": [
    "for i in l[0:5]:\n",
    "    a,b,c,d,q_exp, start, end, c_exp=i\n",
    "    print(a,\" - \",b,\" - \",q_exp, \" vs \", c_exp)\n",
    "    fig = plt.figure()\n",
    "    x = np.linspace(start, end, 100)\n",
    "    plt.plot(x, eval(q_exp))\n",
    "    plt.plot(x, eval(c_exp))\n",
    "    plt.show()"
   ]
  },
  {
   "cell_type": "code",
   "execution_count": 86,
   "metadata": {
    "collapsed": true
   },
   "outputs": [
    {
     "name": "stderr",
     "output_type": "stream",
     "text": [
      "C:\\Users\\e337672\\AppData\\Local\\conda\\conda\\envs\\Qiskitenv\\lib\\site-packages\\ipykernel_launcher.py:1: RuntimeWarning: overflow encountered in power\n",
      "  \"\"\"Entry point for launching an IPython kernel.\n"
     ]
    },
    {
     "data": {
      "text/plain": [
       "array([1.00000000e+000, 2.02834639e+000, 1.69265518e+001, 5.81137787e+002,\n",
       "       8.20869242e+004, 4.77038135e+007, 1.14055560e+011, 1.12192564e+015,\n",
       "       4.54041899e+019, 7.55983015e+024, 5.17860031e+030, 1.45947613e+037,\n",
       "       1.69225516e+044, 8.07270243e+051, 1.58436883e+060, 1.27931616e+069,\n",
       "       4.24994907e+078, 5.80863137e+088, 3.26624045e+099, 7.55625732e+110,\n",
       "       7.19199823e+122, 2.81628533e+135, 4.53720061e+148, 3.00734712e+162,\n",
       "       8.20093527e+176, 9.20083953e+191, 4.24693659e+207, 8.06507379e+223,\n",
       "       6.30122752e+240, 2.02547191e+258, 2.67862265e+276, 1.45740782e+295,\n",
       "                   inf,             inf,             inf,             inf,\n",
       "                   inf,             inf,             inf,             inf,\n",
       "                   inf,             inf,             inf,             inf,\n",
       "                   inf,             inf,             inf,             inf,\n",
       "                   inf,             inf,             inf,             inf,\n",
       "                   inf,             inf,             inf,             inf,\n",
       "                   inf,             inf,             inf,             inf,\n",
       "                   inf,             inf,             inf,             inf,\n",
       "                   inf,             inf,             inf,             inf,\n",
       "                   inf,             inf,             inf,             inf,\n",
       "                   inf,             inf,             inf,             inf,\n",
       "                   inf,             inf,             inf,             inf,\n",
       "                   inf,             inf,             inf,             inf,\n",
       "                   inf,             inf,             inf,             inf,\n",
       "                   inf,             inf,             inf,             inf,\n",
       "                   inf,             inf,             inf,             inf,\n",
       "                   inf,             inf,             inf,             inf])"
      ]
     },
     "execution_count": 86,
     "metadata": {},
     "output_type": "execute_result"
    }
   ],
   "source": [
    "2**(x**2"
   ]
  },
  {
   "cell_type": "code",
   "execution_count": 70,
   "metadata": {
    "collapsed": true
   },
   "outputs": [
    {
     "data": {
      "text/plain": [
       "[<matplotlib.lines.Line2D at 0x8d46908>]"
      ]
     },
     "execution_count": 70,
     "metadata": {},
     "output_type": "execute_result"
    },
    {
     "data": {
      "image/png": "[encoded data removed]",
      "text/plain": [
       "<Figure size 432x288 with 1 Axes>"
      ]
     },
     "metadata": {
      "needs_background": "light"
     },
     "output_type": "display_data"
    }
   ],
   "source": []
  },
  {
   "cell_type": "code",
   "execution_count": null,
   "metadata": {},
   "outputs": [],
   "source": []
  }
 ],
 "metadata": {
  "kernelspec": {
   "display_name": "Python 3",
   "language": "python",
   "name": "python3"
  },
  "language_info": {
   "codemirror_mode": {
    "name": "ipython",
    "version": 3
   },
   "file_extension": ".py",
   "mimetype": "text/x-python",
   "name": "python",
   "nbconvert_exporter": "python",
   "pygments_lexer": "ipython3",
   "version": "3.7.2"
  }
 },
 "nbformat": 4,
 "nbformat_minor": 2
}
